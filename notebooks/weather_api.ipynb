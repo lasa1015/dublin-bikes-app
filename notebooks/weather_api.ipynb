{
 "cells": [
  {
   "cell_type": "code",
   "execution_count": 3,
   "metadata": {},
   "outputs": [
    {
     "name": "stdout",
     "output_type": "stream",
     "text": [
      "{'base': 'stations',\n",
      " 'clouds': {'all': 75},\n",
      " 'cod': 200,\n",
      " 'coord': {'lat': 53.3501, 'lon': -6.2662},\n",
      " 'dt': 1707938806,\n",
      " 'id': 2964574,\n",
      " 'main': {'feels_like': 11.54,\n",
      "          'humidity': 89,\n",
      "          'pressure': 1005,\n",
      "          'temp': 11.96,\n",
      "          'temp_max': 12.51,\n",
      "          'temp_min': 10.32},\n",
      " 'name': 'Dublin',\n",
      " 'rain': {'1h': 1.09},\n",
      " 'sys': {'country': 'IE',\n",
      "         'id': 2016139,\n",
      "         'sunrise': 1707896814,\n",
      "         'sunset': 1707931911,\n",
      "         'type': 2},\n",
      " 'timezone': 0,\n",
      " 'visibility': 8000,\n",
      " 'weather': [{'description': '中雨', 'icon': '10n', 'id': 501, 'main': 'Rain'},\n",
      "             {'description': '小雨',\n",
      "              'icon': '09n',\n",
      "              'id': 310,\n",
      "              'main': 'Drizzle'}],\n",
      " 'wind': {'deg': 200, 'speed': 4.63}}\n"
     ]
    }
   ],
   "source": [
    "import requests\n",
    "import json\n",
    "from pprint import pprint\n",
    "\n",
    "#   Dublin ：Latitude and longitude coordinates are: 53.350140, -6.266155.)\n",
    "\n",
    "\n",
    "# 'lang' for language, for temperature in Celsius use units=metric\n",
    "\n",
    "URI='https://api.openweathermap.org/data/2.5/weather?lat=53.350140&lon=-6.266155&appid=1bf73cf8aeaf2bb67ae26c6fac4ad782&lang=zh_cn&units=metric'\n",
    "\n",
    "\n",
    "# 使用requests库中的get方法发送一个HTTP GET请求到上面定义的URI \n",
    "# Send an HTTP GET request to the URI defined above using the 'get' method from the requests library.  \n",
    " \n",
    "r= requests.get(URI)\n",
    "\n",
    "# Use the 'pprint' method from the pprint library to pretty-print the content of 'r.text'.  \n",
    "# 'r.text' contains the text content of the response, which is typically a JSON-formatted string.  \n",
    "# 'json.loads(r.text)' converts the JSON-formatted string into a Python dictionary or list.  \n",
    "\n",
    "pprint(json.loads(r.text))\n"
   ]
  },
  {
   "cell_type": "code",
   "execution_count": 5,
   "metadata": {},
   "outputs": [
    {
     "name": "stdout",
     "output_type": "stream",
     "text": [
      "('{\"cod\":\"200\",\"message\":0,\"cnt\":40,\"list\":[{\"dt\":1707944400,\"main\":{\"temp\":11.96,\"feels_like\":11.56,\"temp_min\":11.17,\"temp_max\":11.96,\"pressure\":1005,\"sea_level\":1005,\"grnd_level\":1002,\"humidity\":90,\"temp_kf\":0.79},\"weather\":[{\"id\":500,\"main\":\"Rain\",\"description\":\"小雨\",\"icon\":\"10n\"}],\"clouds\":{\"all\":75},\"wind\":{\"speed\":2.85,\"deg\":177,\"gust\":6.74},\"visibility\":10000,\"pop\":0.76,\"rain\":{\"3h\":1.49},\"sys\":{\"pod\":\"n\"},\"dt_txt\":\"2024-02-14 '\n",
      " '21:00:00\"},{\"dt\":1707955200,\"main\":{\"temp\":11.98,\"feels_like\":11.61,\"temp_min\":11.98,\"temp_max\":12.03,\"pressure\":1004,\"sea_level\":1004,\"grnd_level\":1001,\"humidity\":91,\"temp_kf\":-0.05},\"weather\":[{\"id\":500,\"main\":\"Rain\",\"description\":\"小雨\",\"icon\":\"10n\"}],\"clouds\":{\"all\":83},\"wind\":{\"speed\":4.03,\"deg\":191,\"gust\":11.5},\"visibility\":10000,\"pop\":1,\"rain\":{\"3h\":1.36},\"sys\":{\"pod\":\"n\"},\"dt_txt\":\"2024-02-15 '\n",
      " '00:00:00\"},{\"dt\":1707966000,\"main\":{\"temp\":11.48,\"feels_like\":11.14,\"temp_min\":11.24,\"temp_max\":11.48,\"pressure\":1002,\"sea_level\":1002,\"grnd_level\":1000,\"humidity\":94,\"temp_kf\":0.24},\"weather\":[{\"id\":500,\"main\":\"Rain\",\"description\":\"小雨\",\"icon\":\"10n\"}],\"clouds\":{\"all\":92},\"wind\":{\"speed\":3.01,\"deg\":166,\"gust\":5.63},\"visibility\":7565,\"pop\":1,\"rain\":{\"3h\":1.03},\"sys\":{\"pod\":\"n\"},\"dt_txt\":\"2024-02-15 '\n",
      " '03:00:00\"},{\"dt\":1707976800,\"main\":{\"temp\":11.71,\"feels_like\":11.42,\"temp_min\":11.71,\"temp_max\":11.71,\"pressure\":1000,\"sea_level\":1000,\"grnd_level\":999,\"humidity\":95,\"temp_kf\":0},\"weather\":[{\"id\":500,\"main\":\"Rain\",\"description\":\"小雨\",\"icon\":\"10n\"}],\"clouds\":{\"all\":100},\"wind\":{\"speed\":2.99,\"deg\":193,\"gust\":8.92},\"visibility\":10000,\"pop\":1,\"rain\":{\"3h\":1.52},\"sys\":{\"pod\":\"n\"},\"dt_txt\":\"2024-02-15 '\n",
      " '06:00:00\"},{\"dt\":1707987600,\"main\":{\"temp\":12.23,\"feels_like\":11.91,\"temp_min\":12.23,\"temp_max\":12.23,\"pressure\":1001,\"sea_level\":1001,\"grnd_level\":1000,\"humidity\":92,\"temp_kf\":0},\"weather\":[{\"id\":804,\"main\":\"Clouds\",\"description\":\"阴，多云\",\"icon\":\"04d\"}],\"clouds\":{\"all\":100},\"wind\":{\"speed\":4.5,\"deg\":203,\"gust\":11.3},\"visibility\":10000,\"pop\":0.3,\"sys\":{\"pod\":\"d\"},\"dt_txt\":\"2024-02-15 '\n",
      " '09:00:00\"},{\"dt\":1707998400,\"main\":{\"temp\":11.84,\"feels_like\":11.53,\"temp_min\":11.84,\"temp_max\":11.84,\"pressure\":1002,\"sea_level\":1002,\"grnd_level\":1001,\"humidity\":94,\"temp_kf\":0},\"weather\":[{\"id\":500,\"main\":\"Rain\",\"description\":\"小雨\",\"icon\":\"10d\"}],\"clouds\":{\"all\":100},\"wind\":{\"speed\":3.59,\"deg\":241,\"gust\":8.25},\"visibility\":10000,\"pop\":0.29,\"rain\":{\"3h\":0.15},\"sys\":{\"pod\":\"d\"},\"dt_txt\":\"2024-02-15 '\n",
      " '12:00:00\"},{\"dt\":1708009200,\"main\":{\"temp\":12.95,\"feels_like\":12.55,\"temp_min\":12.95,\"temp_max\":12.95,\"pressure\":1002,\"sea_level\":1002,\"grnd_level\":1001,\"humidity\":86,\"temp_kf\":0},\"weather\":[{\"id\":804,\"main\":\"Clouds\",\"description\":\"阴，多云\",\"icon\":\"04d\"}],\"clouds\":{\"all\":100},\"wind\":{\"speed\":2.05,\"deg\":243,\"gust\":4.99},\"visibility\":10000,\"pop\":0.13,\"sys\":{\"pod\":\"d\"},\"dt_txt\":\"2024-02-15 '\n",
      " '15:00:00\"},{\"dt\":1708020000,\"main\":{\"temp\":10.73,\"feels_like\":10.31,\"temp_min\":10.73,\"temp_max\":10.73,\"pressure\":1003,\"sea_level\":1003,\"grnd_level\":1002,\"humidity\":94,\"temp_kf\":0},\"weather\":[{\"id\":500,\"main\":\"Rain\",\"description\":\"小雨\",\"icon\":\"10n\"}],\"clouds\":{\"all\":100},\"wind\":{\"speed\":2.11,\"deg\":266,\"gust\":3.48},\"visibility\":10000,\"pop\":0.61,\"rain\":{\"3h\":0.91},\"sys\":{\"pod\":\"n\"},\"dt_txt\":\"2024-02-15 '\n",
      " '18:00:00\"},{\"dt\":1708030800,\"main\":{\"temp\":9.24,\"feels_like\":8.05,\"temp_min\":9.24,\"temp_max\":9.24,\"pressure\":1005,\"sea_level\":1005,\"grnd_level\":1004,\"humidity\":96,\"temp_kf\":0},\"weather\":[{\"id\":804,\"main\":\"Clouds\",\"description\":\"阴，多云\",\"icon\":\"04n\"}],\"clouds\":{\"all\":100},\"wind\":{\"speed\":2.32,\"deg\":246,\"gust\":3.69},\"visibility\":10000,\"pop\":0.23,\"sys\":{\"pod\":\"n\"},\"dt_txt\":\"2024-02-15 '\n",
      " '21:00:00\"},{\"dt\":1708041600,\"main\":{\"temp\":7.99,\"feels_like\":5.64,\"temp_min\":7.99,\"temp_max\":7.99,\"pressure\":1006,\"sea_level\":1006,\"grnd_level\":1004,\"humidity\":90,\"temp_kf\":0},\"weather\":[{\"id\":803,\"main\":\"Clouds\",\"description\":\"多云\",\"icon\":\"04n\"}],\"clouds\":{\"all\":69},\"wind\":{\"speed\":3.79,\"deg\":230,\"gust\":11.18},\"visibility\":10000,\"pop\":0.11,\"sys\":{\"pod\":\"n\"},\"dt_txt\":\"2024-02-16 '\n",
      " '00:00:00\"},{\"dt\":1708052400,\"main\":{\"temp\":8.26,\"feels_like\":5.3,\"temp_min\":8.26,\"temp_max\":8.26,\"pressure\":1007,\"sea_level\":1007,\"grnd_level\":1005,\"humidity\":91,\"temp_kf\":0},\"weather\":[{\"id\":500,\"main\":\"Rain\",\"description\":\"小雨\",\"icon\":\"10n\"}],\"clouds\":{\"all\":20},\"wind\":{\"speed\":5.28,\"deg\":224,\"gust\":12.42},\"visibility\":10000,\"pop\":0.4,\"rain\":{\"3h\":0.15},\"sys\":{\"pod\":\"n\"},\"dt_txt\":\"2024-02-16 '\n",
      " '03:00:00\"},{\"dt\":1708063200,\"main\":{\"temp\":9.83,\"feels_like\":6.68,\"temp_min\":9.83,\"temp_max\":9.83,\"pressure\":1008,\"sea_level\":1008,\"grnd_level\":1006,\"humidity\":92,\"temp_kf\":0},\"weather\":[{\"id\":500,\"main\":\"Rain\",\"description\":\"小雨\",\"icon\":\"10n\"}],\"clouds\":{\"all\":60},\"wind\":{\"speed\":7.15,\"deg\":255,\"gust\":13.88},\"visibility\":10000,\"pop\":0.88,\"rain\":{\"3h\":1.62},\"sys\":{\"pod\":\"n\"},\"dt_txt\":\"2024-02-16 '\n",
      " '06:00:00\"},{\"dt\":1708074000,\"main\":{\"temp\":9.86,\"feels_like\":7.08,\"temp_min\":9.86,\"temp_max\":9.86,\"pressure\":1012,\"sea_level\":1012,\"grnd_level\":1010,\"humidity\":93,\"temp_kf\":0},\"weather\":[{\"id\":804,\"main\":\"Clouds\",\"description\":\"阴，多云\",\"icon\":\"04d\"}],\"clouds\":{\"all\":98},\"wind\":{\"speed\":5.95,\"deg\":274,\"gust\":11.55},\"visibility\":10000,\"pop\":0.16,\"sys\":{\"pod\":\"d\"},\"dt_txt\":\"2024-02-16 '\n",
      " '09:00:00\"},{\"dt\":1708084800,\"main\":{\"temp\":11.07,\"feels_like\":10.56,\"temp_min\":11.07,\"temp_max\":11.07,\"pressure\":1016,\"sea_level\":1016,\"grnd_level\":1014,\"humidity\":89,\"temp_kf\":0},\"weather\":[{\"id\":804,\"main\":\"Clouds\",\"description\":\"阴，多云\",\"icon\":\"04d\"}],\"clouds\":{\"all\":94},\"wind\":{\"speed\":5.02,\"deg\":273,\"gust\":9.37},\"visibility\":10000,\"pop\":0.05,\"sys\":{\"pod\":\"d\"},\"dt_txt\":\"2024-02-16 '\n",
      " '12:00:00\"},{\"dt\":1708095600,\"main\":{\"temp\":11.82,\"feels_like\":11.28,\"temp_min\":11.82,\"temp_max\":11.82,\"pressure\":1018,\"sea_level\":1018,\"grnd_level\":1016,\"humidity\":85,\"temp_kf\":0},\"weather\":[{\"id\":500,\"main\":\"Rain\",\"description\":\"小雨\",\"icon\":\"10d\"}],\"clouds\":{\"all\":100},\"wind\":{\"speed\":4.58,\"deg\":265,\"gust\":8.51},\"visibility\":10000,\"pop\":0.2,\"rain\":{\"3h\":0.1},\"sys\":{\"pod\":\"d\"},\"dt_txt\":\"2024-02-16 '\n",
      " '15:00:00\"},{\"dt\":1708106400,\"main\":{\"temp\":9.55,\"feels_like\":7.85,\"temp_min\":9.55,\"temp_max\":9.55,\"pressure\":1021,\"sea_level\":1021,\"grnd_level\":1019,\"humidity\":90,\"temp_kf\":0},\"weather\":[{\"id\":804,\"main\":\"Clouds\",\"description\":\"阴，多云\",\"icon\":\"04n\"}],\"clouds\":{\"all\":90},\"wind\":{\"speed\":3.22,\"deg\":245,\"gust\":5.55},\"visibility\":10000,\"pop\":0,\"sys\":{\"pod\":\"n\"},\"dt_txt\":\"2024-02-16 '\n",
      " '18:00:00\"},{\"dt\":1708117200,\"main\":{\"temp\":8.67,\"feels_like\":7.28,\"temp_min\":8.67,\"temp_max\":8.67,\"pressure\":1023,\"sea_level\":1023,\"grnd_level\":1021,\"humidity\":91,\"temp_kf\":0},\"weather\":[{\"id\":802,\"main\":\"Clouds\",\"description\":\"多云\",\"icon\":\"03n\"}],\"clouds\":{\"all\":38},\"wind\":{\"speed\":2.45,\"deg\":214,\"gust\":3.38},\"visibility\":10000,\"pop\":0,\"sys\":{\"pod\":\"n\"},\"dt_txt\":\"2024-02-16 '\n",
      " '21:00:00\"},{\"dt\":1708128000,\"main\":{\"temp\":9.68,\"feels_like\":8.63,\"temp_min\":9.68,\"temp_max\":9.68,\"pressure\":1023,\"sea_level\":1023,\"grnd_level\":1022,\"humidity\":88,\"temp_kf\":0},\"weather\":[{\"id\":802,\"main\":\"Clouds\",\"description\":\"多云\",\"icon\":\"03n\"}],\"clouds\":{\"all\":50},\"wind\":{\"speed\":2.24,\"deg\":176,\"gust\":3.08},\"visibility\":10000,\"pop\":0,\"sys\":{\"pod\":\"n\"},\"dt_txt\":\"2024-02-17 '\n",
      " '00:00:00\"},{\"dt\":1708138800,\"main\":{\"temp\":10,\"feels_like\":9.06,\"temp_min\":10,\"temp_max\":10,\"pressure\":1023,\"sea_level\":1023,\"grnd_level\":1022,\"humidity\":87,\"temp_kf\":0},\"weather\":[{\"id\":804,\"main\":\"Clouds\",\"description\":\"阴，多云\",\"icon\":\"04n\"}],\"clouds\":{\"all\":85},\"wind\":{\"speed\":2.17,\"deg\":174,\"gust\":2.45},\"visibility\":10000,\"pop\":0,\"sys\":{\"pod\":\"n\"},\"dt_txt\":\"2024-02-17 '\n",
      " '03:00:00\"},{\"dt\":1708149600,\"main\":{\"temp\":10.8,\"feels_like\":10.31,\"temp_min\":10.8,\"temp_max\":10.8,\"pressure\":1023,\"sea_level\":1023,\"grnd_level\":1021,\"humidity\":91,\"temp_kf\":0},\"weather\":[{\"id\":804,\"main\":\"Clouds\",\"description\":\"阴，多云\",\"icon\":\"04n\"}],\"clouds\":{\"all\":86},\"wind\":{\"speed\":3.06,\"deg\":174,\"gust\":5.13},\"visibility\":10000,\"pop\":0,\"sys\":{\"pod\":\"n\"},\"dt_txt\":\"2024-02-17 '\n",
      " '06:00:00\"},{\"dt\":1708160400,\"main\":{\"temp\":10.82,\"feels_like\":10.31,\"temp_min\":10.82,\"temp_max\":10.82,\"pressure\":1023,\"sea_level\":1023,\"grnd_level\":1021,\"humidity\":90,\"temp_kf\":0},\"weather\":[{\"id\":804,\"main\":\"Clouds\",\"description\":\"阴，多云\",\"icon\":\"04d\"}],\"clouds\":{\"all\":100},\"wind\":{\"speed\":4.47,\"deg\":163,\"gust\":11.07},\"visibility\":10000,\"pop\":0,\"sys\":{\"pod\":\"d\"},\"dt_txt\":\"2024-02-17 '\n",
      " '09:00:00\"},{\"dt\":1708171200,\"main\":{\"temp\":10.97,\"feels_like\":10.5,\"temp_min\":10.97,\"temp_max\":10.97,\"pressure\":1022,\"sea_level\":1022,\"grnd_level\":1020,\"humidity\":91,\"temp_kf\":0},\"weather\":[{\"id\":500,\"main\":\"Rain\",\"description\":\"小雨\",\"icon\":\"10d\"}],\"clouds\":{\"all\":100},\"wind\":{\"speed\":5.98,\"deg\":161,\"gust\":14.45},\"visibility\":10000,\"pop\":0.99,\"rain\":{\"3h\":1.28},\"sys\":{\"pod\":\"d\"},\"dt_txt\":\"2024-02-17 '\n",
      " '12:00:00\"},{\"dt\":1708182000,\"main\":{\"temp\":11.55,\"feels_like\":11.16,\"temp_min\":11.55,\"temp_max\":11.55,\"pressure\":1020,\"sea_level\":1020,\"grnd_level\":1018,\"humidity\":92,\"temp_kf\":0},\"weather\":[{\"id\":500,\"main\":\"Rain\",\"description\":\"小雨\",\"icon\":\"10d\"}],\"clouds\":{\"all\":100},\"wind\":{\"speed\":4.65,\"deg\":180,\"gust\":11.47},\"visibility\":10000,\"pop\":1,\"rain\":{\"3h\":0.93},\"sys\":{\"pod\":\"d\"},\"dt_txt\":\"2024-02-17 '\n",
      " '15:00:00\"},{\"dt\":1708192800,\"main\":{\"temp\":11.2,\"feels_like\":10.88,\"temp_min\":11.2,\"temp_max\":11.2,\"pressure\":1020,\"sea_level\":1020,\"grnd_level\":1019,\"humidity\":96,\"temp_kf\":0},\"weather\":[{\"id\":500,\"main\":\"Rain\",\"description\":\"小雨\",\"icon\":\"10n\"}],\"clouds\":{\"all\":100},\"wind\":{\"speed\":3.05,\"deg\":211,\"gust\":6.14},\"visibility\":10000,\"pop\":1,\"rain\":{\"3h\":1.53},\"sys\":{\"pod\":\"n\"},\"dt_txt\":\"2024-02-17 '\n",
      " '18:00:00\"},{\"dt\":1708203600,\"main\":{\"temp\":11.32,\"feels_like\":11.04,\"temp_min\":11.32,\"temp_max\":11.32,\"pressure\":1021,\"sea_level\":1021,\"grnd_level\":1019,\"humidity\":97,\"temp_kf\":0},\"weather\":[{\"id\":500,\"main\":\"Rain\",\"description\":\"小雨\",\"icon\":\"10n\"}],\"clouds\":{\"all\":100},\"wind\":{\"speed\":3.5,\"deg\":253,\"gust\":9.9},\"visibility\":10000,\"pop\":1,\"rain\":{\"3h\":0.56},\"sys\":{\"pod\":\"n\"},\"dt_txt\":\"2024-02-17 '\n",
      " '21:00:00\"},{\"dt\":1708214400,\"main\":{\"temp\":10.87,\"feels_like\":10.55,\"temp_min\":10.87,\"temp_max\":10.87,\"pressure\":1021,\"sea_level\":1021,\"grnd_level\":1019,\"humidity\":97,\"temp_kf\":0},\"weather\":[{\"id\":500,\"main\":\"Rain\",\"description\":\"小雨\",\"icon\":\"10n\"}],\"clouds\":{\"all\":100},\"wind\":{\"speed\":2.89,\"deg\":257,\"gust\":6.9},\"visibility\":10000,\"pop\":1,\"rain\":{\"3h\":2.51},\"sys\":{\"pod\":\"n\"},\"dt_txt\":\"2024-02-18 '\n",
      " '00:00:00\"},{\"dt\":1708225200,\"main\":{\"temp\":10.5,\"feels_like\":10.09,\"temp_min\":10.5,\"temp_max\":10.5,\"pressure\":1022,\"sea_level\":1022,\"grnd_level\":1020,\"humidity\":95,\"temp_kf\":0},\"weather\":[{\"id\":500,\"main\":\"Rain\",\"description\":\"小雨\",\"icon\":\"10n\"}],\"clouds\":{\"all\":100},\"wind\":{\"speed\":3.09,\"deg\":254,\"gust\":7.62},\"visibility\":10000,\"pop\":0.6,\"rain\":{\"3h\":0.59},\"sys\":{\"pod\":\"n\"},\"dt_txt\":\"2024-02-18 '\n",
      " '03:00:00\"},{\"dt\":1708236000,\"main\":{\"temp\":9.72,\"feels_like\":7.46,\"temp_min\":9.72,\"temp_max\":9.72,\"pressure\":1023,\"sea_level\":1023,\"grnd_level\":1021,\"humidity\":93,\"temp_kf\":0},\"weather\":[{\"id\":500,\"main\":\"Rain\",\"description\":\"小雨\",\"icon\":\"10n\"}],\"clouds\":{\"all\":100},\"wind\":{\"speed\":4.46,\"deg\":274,\"gust\":8.58},\"visibility\":10000,\"pop\":0.6,\"rain\":{\"3h\":0.52},\"sys\":{\"pod\":\"n\"},\"dt_txt\":\"2024-02-18 '\n",
      " '06:00:00\"},{\"dt\":1708246800,\"main\":{\"temp\":9.49,\"feels_like\":7.28,\"temp_min\":9.49,\"temp_max\":9.49,\"pressure\":1025,\"sea_level\":1025,\"grnd_level\":1023,\"humidity\":89,\"temp_kf\":0},\"weather\":[{\"id\":804,\"main\":\"Clouds\",\"description\":\"阴，多云\",\"icon\":\"04d\"}],\"clouds\":{\"all\":100},\"wind\":{\"speed\":4.21,\"deg\":281,\"gust\":6.62},\"visibility\":10000,\"pop\":0,\"sys\":{\"pod\":\"d\"},\"dt_txt\":\"2024-02-18 '\n",
      " '09:00:00\"},{\"dt\":1708257600,\"main\":{\"temp\":11.49,\"feels_like\":10.81,\"temp_min\":11.49,\"temp_max\":11.49,\"pressure\":1026,\"sea_level\":1026,\"grnd_level\":1025,\"humidity\":81,\"temp_kf\":0},\"weather\":[{\"id\":804,\"main\":\"Clouds\",\"description\":\"阴，多云\",\"icon\":\"04d\"}],\"clouds\":{\"all\":92},\"wind\":{\"speed\":4.13,\"deg\":268,\"gust\":6.86},\"visibility\":10000,\"pop\":0,\"sys\":{\"pod\":\"d\"},\"dt_txt\":\"2024-02-18 '\n",
      " '12:00:00\"},{\"dt\":1708268400,\"main\":{\"temp\":13.05,\"feels_like\":12.45,\"temp_min\":13.05,\"temp_max\":13.05,\"pressure\":1026,\"sea_level\":1026,\"grnd_level\":1024,\"humidity\":78,\"temp_kf\":0},\"weather\":[{\"id\":802,\"main\":\"Clouds\",\"description\":\"多云\",\"icon\":\"03d\"}],\"clouds\":{\"all\":25},\"wind\":{\"speed\":3.83,\"deg\":258,\"gust\":6.77},\"visibility\":10000,\"pop\":0,\"sys\":{\"pod\":\"d\"},\"dt_txt\":\"2024-02-18 '\n",
      " '15:00:00\"},{\"dt\":1708279200,\"main\":{\"temp\":10.3,\"feels_like\":9.79,\"temp_min\":10.3,\"temp_max\":10.3,\"pressure\":1027,\"sea_level\":1027,\"grnd_level\":1026,\"humidity\":92,\"temp_kf\":0},\"weather\":[{\"id\":801,\"main\":\"Clouds\",\"description\":\"晴，少云\",\"icon\":\"02n\"}],\"clouds\":{\"all\":19},\"wind\":{\"speed\":3.33,\"deg\":246,\"gust\":8.79},\"visibility\":10000,\"pop\":0,\"sys\":{\"pod\":\"n\"},\"dt_txt\":\"2024-02-18 '\n",
      " '18:00:00\"},{\"dt\":1708290000,\"main\":{\"temp\":8.99,\"feels_like\":7.25,\"temp_min\":8.99,\"temp_max\":8.99,\"pressure\":1028,\"sea_level\":1028,\"grnd_level\":1026,\"humidity\":95,\"temp_kf\":0},\"weather\":[{\"id\":802,\"main\":\"Clouds\",\"description\":\"多云\",\"icon\":\"03n\"}],\"clouds\":{\"all\":47},\"wind\":{\"speed\":3.08,\"deg\":232,\"gust\":8.81},\"visibility\":10000,\"pop\":0,\"sys\":{\"pod\":\"n\"},\"dt_txt\":\"2024-02-18 '\n",
      " '21:00:00\"},{\"dt\":1708300800,\"main\":{\"temp\":9.37,\"feels_like\":7.42,\"temp_min\":9.37,\"temp_max\":9.37,\"pressure\":1027,\"sea_level\":1027,\"grnd_level\":1025,\"humidity\":91,\"temp_kf\":0},\"weather\":[{\"id\":803,\"main\":\"Clouds\",\"description\":\"多云\",\"icon\":\"04n\"}],\"clouds\":{\"all\":74},\"wind\":{\"speed\":3.61,\"deg\":226,\"gust\":10.21},\"visibility\":10000,\"pop\":0,\"sys\":{\"pod\":\"n\"},\"dt_txt\":\"2024-02-19 '\n",
      " '00:00:00\"},{\"dt\":1708311600,\"main\":{\"temp\":8.75,\"feels_like\":6.28,\"temp_min\":8.75,\"temp_max\":8.75,\"pressure\":1027,\"sea_level\":1027,\"grnd_level\":1026,\"humidity\":93,\"temp_kf\":0},\"weather\":[{\"id\":500,\"main\":\"Rain\",\"description\":\"小雨\",\"icon\":\"10n\"}],\"clouds\":{\"all\":100},\"wind\":{\"speed\":4.41,\"deg\":244,\"gust\":9.35},\"visibility\":8137,\"pop\":0.85,\"rain\":{\"3h\":1.53},\"sys\":{\"pod\":\"n\"},\"dt_txt\":\"2024-02-19 '\n",
      " '03:00:00\"},{\"dt\":1708322400,\"main\":{\"temp\":7.66,\"feels_like\":4.55,\"temp_min\":7.66,\"temp_max\":7.66,\"pressure\":1028,\"sea_level\":1028,\"grnd_level\":1026,\"humidity\":94,\"temp_kf\":0},\"weather\":[{\"id\":500,\"main\":\"Rain\",\"description\":\"小雨\",\"icon\":\"10n\"}],\"clouds\":{\"all\":86},\"wind\":{\"speed\":5.28,\"deg\":261,\"gust\":12.37},\"visibility\":10000,\"pop\":1,\"rain\":{\"3h\":0.9},\"sys\":{\"pod\":\"n\"},\"dt_txt\":\"2024-02-19 '\n",
      " '06:00:00\"},{\"dt\":1708333200,\"main\":{\"temp\":7.32,\"feels_like\":4.05,\"temp_min\":7.32,\"temp_max\":7.32,\"pressure\":1029,\"sea_level\":1029,\"grnd_level\":1027,\"humidity\":92,\"temp_kf\":0},\"weather\":[{\"id\":800,\"main\":\"Clear\",\"description\":\"晴\",\"icon\":\"01d\"}],\"clouds\":{\"all\":6},\"wind\":{\"speed\":5.46,\"deg\":269,\"gust\":12.13},\"visibility\":10000,\"pop\":0,\"sys\":{\"pod\":\"d\"},\"dt_txt\":\"2024-02-19 '\n",
      " '09:00:00\"},{\"dt\":1708344000,\"main\":{\"temp\":9.4,\"feels_like\":7.01,\"temp_min\":9.4,\"temp_max\":9.4,\"pressure\":1030,\"sea_level\":1030,\"grnd_level\":1028,\"humidity\":82,\"temp_kf\":0},\"weather\":[{\"id\":802,\"main\":\"Clouds\",\"description\":\"多云\",\"icon\":\"03d\"}],\"clouds\":{\"all\":42},\"wind\":{\"speed\":4.58,\"deg\":273,\"gust\":8.61},\"visibility\":10000,\"pop\":0,\"sys\":{\"pod\":\"d\"},\"dt_txt\":\"2024-02-19 '\n",
      " '12:00:00\"},{\"dt\":1708354800,\"main\":{\"temp\":10.58,\"feels_like\":9.65,\"temp_min\":10.58,\"temp_max\":10.58,\"pressure\":1029,\"sea_level\":1029,\"grnd_level\":1028,\"humidity\":75,\"temp_kf\":0},\"weather\":[{\"id\":804,\"main\":\"Clouds\",\"description\":\"阴，多云\",\"icon\":\"04d\"}],\"clouds\":{\"all\":98},\"wind\":{\"speed\":4.39,\"deg\":269,\"gust\":7.38},\"visibility\":10000,\"pop\":0,\"sys\":{\"pod\":\"d\"},\"dt_txt\":\"2024-02-19 '\n",
      " '15:00:00\"},{\"dt\":1708365600,\"main\":{\"temp\":8.58,\"feels_like\":7.15,\"temp_min\":8.58,\"temp_max\":8.58,\"pressure\":1029,\"sea_level\":1029,\"grnd_level\":1028,\"humidity\":84,\"temp_kf\":0},\"weather\":[{\"id\":804,\"main\":\"Clouds\",\"description\":\"阴，多云\",\"icon\":\"04n\"}],\"clouds\":{\"all\":98},\"wind\":{\"speed\":2.49,\"deg\":241,\"gust\":5.22},\"visibility\":10000,\"pop\":0,\"sys\":{\"pod\":\"n\"},\"dt_txt\":\"2024-02-19 '\n",
      " '18:00:00\"}],\"city\":{\"id\":2964574,\"name\":\"Dublin\",\"coord\":{\"lat\":53.3501,\"lon\":-6.2662},\"country\":\"IE\",\"population\":15000,\"timezone\":0,\"sunrise\":1707896814,\"sunset\":1707931911}}')\n"
     ]
    }
   ],
   "source": [
    "# 5 day / 3 hour forecast data\n",
    "\n",
    "url3='http://api.openweathermap.org/data/2.5/forecast?lat=53.350140&lon=-6.266155&appid=1bf73cf8aeaf2bb67ae26c6fac4ad782&lang=zh_cn&units=metric'\n",
    "json_dataset3 = requests.get(url3).text\n",
    "\n",
    "#Look at the first 500 characters of the json list\n",
    "pprint(json_dataset3)\n"
   ]
  },
  {
   "cell_type": "code",
   "execution_count": 6,
   "metadata": {},
   "outputs": [
    {
     "name": "stdout",
     "output_type": "stream",
     "text": [
      "'{\"coord\":{\"lon\":-6.2662,\"lat\":53.3501},\"list\":[{\"main\":{\"aqi\":1},\"components\":{\"co\":253.68,\"no\":0,\"no2\":15.59,\"o3\":51.5,\"so2\":9.06,\"pm2_5\":3.8,\"pm10\":4.58,\"nh3\":0.97},\"dt\":1707939286}]}'\n"
     ]
    }
   ],
   "source": [
    "#air pollution\n",
    "\n",
    "url2='http://api.openweathermap.org/data/2.5/air_pollution?lat=53.350140&lon=-6.266155&appid=1bf73cf8aeaf2bb67ae26c6fac4ad782&lang=zh_cn'\n",
    "json_dataset2 = requests.get(url2).text\n",
    "\n",
    "#Look at the first 500 characters of the json list\n",
    "pprint(json_dataset2)\n",
    "\n"
   ]
  },
  {
   "cell_type": "code",
   "execution_count": 7,
   "metadata": {},
   "outputs": [
    {
     "name": "stdout",
     "output_type": "stream",
     "text": [
      "'{\"coord\":{\"lon\":-6.2662,\"lat\":53.3501},\"list\":[{\"main\":{\"aqi\":1},\"components\":{\"co\":253.68,\"no\":0,\"no2\":15.59,\"o3\":51.5,\"so2\":9.06,\"pm2_5\":3.8,\"pm10\":4.58,\"nh3\":0.97},\"dt\":1707939286}]}'\n"
     ]
    }
   ],
   "source": [
    "# Weather maps 1.0\n",
    "\n",
    "url4='https://tile.openweathermap.org/map/precipitation_new/{1}/{1}/{1}.png?appid={API key}'\n",
    "json_dataset4 = requests.get(url4).text\n",
    "\n",
    "#Look at the first 500 characters of the json list\n",
    "pprint(json_dataset2)\n"
   ]
  },
  {
   "cell_type": "markdown",
   "metadata": {},
   "source": []
  }
 ],
 "metadata": {
  "kernelspec": {
   "display_name": "comp30830",
   "language": "python",
   "name": "python3"
  },
  "language_info": {
   "codemirror_mode": {
    "name": "ipython",
    "version": 3
   },
   "file_extension": ".py",
   "mimetype": "text/x-python",
   "name": "python",
   "nbconvert_exporter": "python",
   "pygments_lexer": "ipython3",
   "version": "3.11.7"
  }
 },
 "nbformat": 4,
 "nbformat_minor": 2
}
