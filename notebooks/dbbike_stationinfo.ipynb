{
 "cells": [
  {
   "cell_type": "code",
   "execution_count": 1,
   "metadata": {},
   "outputs": [],
   "source": [
    "import json\n",
    "import requests"
   ]
  },
  {
   "cell_type": "code",
   "execution_count": 2,
   "metadata": {},
   "outputs": [],
   "source": [
    "api_key = 'c24604175fb04bf4c5f9e854f442c64e432b5817'\n",
    "name = \"Dublin\"\n",
    "stations = \"https://api.jcdecaux.com/vls/v1/stations\""
   ]
  },
  {
   "cell_type": "code",
   "execution_count": 4,
   "metadata": {},
   "outputs": [],
   "source": [
    "def main():\n",
    "    while True:\n",
    "        try: \n",
    "            r = requests.get(stations,\n",
    "                             params={\"apiKey\":api_key, \"contract\": name})\n",
    "            print(json.loads(r.text))\n",
    "\n",
    "            time.sleep(5*60)\n",
    "        \n",
    "        except:\n",
    "            print (traceback.format_exc())\n",
    "    return\n",
    "            "
   ]
  }
 ],
 "metadata": {
  "kernelspec": {
   "display_name": "Python 3",
   "language": "python",
   "name": "python3"
  },
  "language_info": {
   "codemirror_mode": {
    "name": "ipython",
    "version": 3
   },
   "file_extension": ".py",
   "mimetype": "text/x-python",
   "name": "python",
   "nbconvert_exporter": "python",
   "pygments_lexer": "ipython3",
   "version": "3.11.7"
  }
 },
 "nbformat": 4,
 "nbformat_minor": 2
}
